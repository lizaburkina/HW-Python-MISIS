{
 "cells": [
  {
   "cell_type": "markdown",
   "id": "446eab11",
   "metadata": {},
   "source": [
    "### Задание 1"
   ]
  },
  {
   "cell_type": "markdown",
   "id": "80343af0",
   "metadata": {},
   "source": [
    "Напишите функцию, извлекающую корень n-й степени из числа x. По умолчанию def будет извлекать квадратный корень:"
   ]
  },
  {
   "cell_type": "code",
   "execution_count": 1,
   "id": "bbffbb56",
   "metadata": {},
   "outputs": [],
   "source": [
    "def koren(x, stepen = 2):\n",
    "    x = x ** (1/stepen)\n",
    "    return(x)"
   ]
  },
  {
   "cell_type": "code",
   "execution_count": 2,
   "id": "547b4f07",
   "metadata": {
    "scrolled": true
   },
   "outputs": [
    {
     "data": {
      "text/plain": [
       "5.0"
      ]
     },
     "execution_count": 2,
     "metadata": {},
     "output_type": "execute_result"
    }
   ],
   "source": [
    "koren(125, 3)"
   ]
  },
  {
   "cell_type": "code",
   "execution_count": 3,
   "id": "9e814275",
   "metadata": {},
   "outputs": [
    {
     "data": {
      "text/plain": [
       "5.0"
      ]
     },
     "execution_count": 3,
     "metadata": {},
     "output_type": "execute_result"
    }
   ],
   "source": [
    "koren(25)"
   ]
  },
  {
   "cell_type": "markdown",
   "id": "3acb3efb",
   "metadata": {},
   "source": [
    "### Задание 2"
   ]
  },
  {
   "cell_type": "markdown",
   "id": "07ace77a",
   "metadata": {},
   "source": [
    "Перепишите ваш код для проверки расширения из прошлого ДЗ в функцию которая принимает список расширений и имя файла"
   ]
  },
  {
   "cell_type": "markdown",
   "id": "92353f8f",
   "metadata": {},
   "source": [
    "РЕШЕНИЕ ИЗ ПРОШЛОГО ДЗ:\n",
    "    \n",
    "text = file.split('.')\n",
    "\n",
    "extension = '.'.join(text[-1:])\n",
    "\n",
    "print(extension)"
   ]
  },
  {
   "cell_type": "markdown",
   "id": "d73f7143",
   "metadata": {},
   "source": [
    "Это решение не обязывает наличие списка расширений"
   ]
  },
  {
   "cell_type": "code",
   "execution_count": 4,
   "id": "b38148e3",
   "metadata": {},
   "outputs": [],
   "source": [
    "file_name = \"С наступающим НГ.pdf\"\n",
    "extensions = ['png', 'jpg', 'jpeg', 'gif', 'svg']"
   ]
  },
  {
   "cell_type": "code",
   "execution_count": 6,
   "id": "40043c42",
   "metadata": {},
   "outputs": [],
   "source": [
    "def file_n_ex(f_n):\n",
    "    dot = f_n.split('.') \n",
    "    f_e = '.'.join(dot[-1:])\n",
    "    return f_e"
   ]
  },
  {
   "cell_type": "code",
   "execution_count": 7,
   "id": "b94f8317",
   "metadata": {
    "scrolled": true
   },
   "outputs": [
    {
     "data": {
      "text/plain": [
       "'pdf'"
      ]
     },
     "execution_count": 7,
     "metadata": {},
     "output_type": "execute_result"
    }
   ],
   "source": [
    "file_n_ex(file_name)"
   ]
  },
  {
   "cell_type": "markdown",
   "id": "7591d635",
   "metadata": {},
   "source": [
    "### Задание 3"
   ]
  },
  {
   "cell_type": "markdown",
   "id": "f4a6dbb2",
   "metadata": {},
   "source": [
    "Слейте воедино три словаря"
   ]
  },
  {
   "cell_type": "markdown",
   "id": "88c765d1",
   "metadata": {},
   "source": [
    "Oператор ** распаковывает содержимое словарей. Первый словарь распаковывается первым, а затем распаковывается второй словарь. В случае совпадения ключей, значения из второго словаря перезаписывают значения из первого и так далее."
   ]
  },
  {
   "cell_type": "code",
   "execution_count": 8,
   "id": "484e6da0",
   "metadata": {},
   "outputs": [
    {
     "data": {
      "text/plain": [
       "{1: 10, 2: 20, 3: 30, 4: 40, 5: 50, 6: 60}"
      ]
     },
     "execution_count": 8,
     "metadata": {},
     "output_type": "execute_result"
    }
   ],
   "source": [
    "dict_a = {1:10, 2:20}\n",
    "dict_b = {3:30, 4:40}\n",
    "dict_c = {5:50, 6:60}\n",
    "\n",
    "dict_abc = {**dict_a, **dict_b, **dict_c}\n",
    "dict_abc"
   ]
  },
  {
   "cell_type": "code",
   "execution_count": 9,
   "id": "11538b9c",
   "metadata": {},
   "outputs": [
    {
     "data": {
      "text/plain": [
       "{1: 10, 2: 20, 3: 30, 4: 40, 5: 50, 6: 60}"
      ]
     },
     "execution_count": 9,
     "metadata": {},
     "output_type": "execute_result"
    }
   ],
   "source": [
    "dict_a = {1:10, 2:20}\n",
    "dict_b = {3:30, 4:40}\n",
    "dict_c = {5:50, 6:60}\n",
    "\n",
    "dict_abc = dict_a | dict_b | dict_c\n",
    "dict_abc"
   ]
  },
  {
   "cell_type": "markdown",
   "id": "459b7a91",
   "metadata": {},
   "source": [
    "### Задание 4"
   ]
  },
  {
   "cell_type": "markdown",
   "id": "125a2f96",
   "metadata": {},
   "source": [
    "Напишите функцию которая будет складывать цифры внутри числа"
   ]
  },
  {
   "cell_type": "code",
   "execution_count": 13,
   "id": "9854f22c",
   "metadata": {},
   "outputs": [],
   "source": [
    "def sum_num1(x):\n",
    "    summa1 = 0\n",
    "    while x > 0 :\n",
    "        summa1 += x % 10\n",
    "        x //= 10\n",
    "\n",
    "    return(summa1)"
   ]
  },
  {
   "cell_type": "code",
   "execution_count": 14,
   "id": "203a6505",
   "metadata": {},
   "outputs": [
    {
     "data": {
      "text/plain": [
       "45"
      ]
     },
     "execution_count": 14,
     "metadata": {},
     "output_type": "execute_result"
    }
   ],
   "source": [
    "sum_num1(1023456789)"
   ]
  },
  {
   "cell_type": "code",
   "execution_count": 15,
   "id": "4375bad7",
   "metadata": {},
   "outputs": [],
   "source": [
    "def sum_num2(x):\n",
    "    summa2 = sum([int(i) for i in list(str(int(x)))])\n",
    "    return(summa2)"
   ]
  },
  {
   "cell_type": "code",
   "execution_count": 16,
   "id": "6cbb0d7e",
   "metadata": {},
   "outputs": [
    {
     "data": {
      "text/plain": [
       "45"
      ]
     },
     "execution_count": 16,
     "metadata": {},
     "output_type": "execute_result"
    }
   ],
   "source": [
    "sum_num2(1023456789)"
   ]
  },
  {
   "cell_type": "markdown",
   "id": "71eae733",
   "metadata": {},
   "source": [
    "### Задание 5"
   ]
  },
  {
   "cell_type": "markdown",
   "id": "6b354b4e",
   "metadata": {},
   "source": [
    "Нужно проверить, все ли числа в последовательности уникальны."
   ]
  },
  {
   "cell_type": "markdown",
   "id": "7a3aacee",
   "metadata": {},
   "source": [
    "Python также предоставляет метод set() , который можно использовать для создания множества по переданной последовательности"
   ]
  },
  {
   "cell_type": "code",
   "execution_count": 17,
   "id": "65e2e8ae",
   "metadata": {},
   "outputs": [],
   "source": [
    "#тупое решение влоб \n",
    "def uniq_x(x):\n",
    "   \n",
    "    for i in range(len(x)):\n",
    "        for j in range(i+1, len(x)):\n",
    "            if x[i] == x[j]:\n",
    "                return False\n",
    "    return True"
   ]
  },
  {
   "cell_type": "code",
   "execution_count": 18,
   "id": "8c53df93",
   "metadata": {},
   "outputs": [
    {
     "name": "stdout",
     "output_type": "stream",
     "text": [
      "1,2,3,4,3\n"
     ]
    },
    {
     "data": {
      "text/plain": [
       "False"
      ]
     },
     "execution_count": 18,
     "metadata": {},
     "output_type": "execute_result"
    }
   ],
   "source": [
    "uniq_x(input().split(','))"
   ]
  },
  {
   "cell_type": "code",
   "execution_count": 19,
   "id": "20f08359",
   "metadata": {},
   "outputs": [
    {
     "name": "stdout",
     "output_type": "stream",
     "text": [
      "1,2,3,4\n"
     ]
    },
    {
     "data": {
      "text/plain": [
       "True"
      ]
     },
     "execution_count": 19,
     "metadata": {},
     "output_type": "execute_result"
    }
   ],
   "source": [
    "uniq_x(input().split(','))"
   ]
  },
  {
   "cell_type": "code",
   "execution_count": 20,
   "id": "c2076537",
   "metadata": {},
   "outputs": [
    {
     "data": {
      "text/plain": [
       "True"
      ]
     },
     "execution_count": 20,
     "metadata": {},
     "output_type": "execute_result"
    }
   ],
   "source": [
    "uniq_x(list(range(10000)))"
   ]
  },
  {
   "cell_type": "code",
   "execution_count": 21,
   "id": "bcad7812",
   "metadata": {},
   "outputs": [],
   "source": [
    "#быстрое решение\n",
    "\n",
    "def uniq_y(y):\n",
    "    \n",
    "    if len(set(y)) == len(y):\n",
    "        return True\n",
    "    else: return False"
   ]
  },
  {
   "cell_type": "code",
   "execution_count": 22,
   "id": "24d22fb8",
   "metadata": {},
   "outputs": [
    {
     "name": "stdout",
     "output_type": "stream",
     "text": [
      "1,2,3,4,5\n"
     ]
    },
    {
     "data": {
      "text/plain": [
       "True"
      ]
     },
     "execution_count": 22,
     "metadata": {},
     "output_type": "execute_result"
    }
   ],
   "source": [
    "uniq_y(input().split(','))"
   ]
  },
  {
   "cell_type": "code",
   "execution_count": 23,
   "id": "1db4c30f",
   "metadata": {},
   "outputs": [
    {
     "name": "stdout",
     "output_type": "stream",
     "text": [
      "1,2,3,4,5,3\n"
     ]
    },
    {
     "data": {
      "text/plain": [
       "False"
      ]
     },
     "execution_count": 23,
     "metadata": {},
     "output_type": "execute_result"
    }
   ],
   "source": [
    "uniq_y(input().split(','))"
   ]
  },
  {
   "cell_type": "markdown",
   "id": "5d55aeb5",
   "metadata": {},
   "source": [
    "### Задание 6.1"
   ]
  },
  {
   "cell_type": "markdown",
   "id": "e7345af2",
   "metadata": {},
   "source": [
    "Создать функцию, которая просто печатает все элементы заданного ей списка:\n",
    "\n",
    " НОМЕР J --> ЗНАЧЕНИЕ\n",
    " НОМЕР K --> ЗНАЧЕНИЕ\n",
    "J, K — порядковые номера в списке\n",
    "\n",
    "Подсказка: один из способов это сделать (наиболее \"в лоб\" и в каком-то смысле наименее питонячий) это создать переменную, которая будет пробегать все номера от 0 до длины переданного списка и печатать просто строчку \"этот номер\" и элемент списка под индексом i. В таком варианте для цикла у вас будет использоваться оператор while. Не забудьте что внутри цикла вам надо будет увеличивать вашу переменную на один каждый раз"
   ]
  },
  {
   "cell_type": "code",
   "execution_count": 24,
   "id": "a6e3d06f",
   "metadata": {},
   "outputs": [],
   "source": [
    "elem = ['red', 'orahge', 'yellow', 'green', 'blue', 'dark blue', 'purpule']"
   ]
  },
  {
   "cell_type": "code",
   "execution_count": 25,
   "id": "ee81c1c8",
   "metadata": {},
   "outputs": [],
   "source": [
    "def spisok_n(x):\n",
    "    \n",
    "    for i in range(len(x)):\n",
    "        print(i+1, x[i])\n"
   ]
  },
  {
   "cell_type": "code",
   "execution_count": 26,
   "id": "ee0bab93",
   "metadata": {},
   "outputs": [],
   "source": [
    "def spisok_n2(x):\n",
    "    \n",
    "    for ind, val in enumerate(x):\n",
    "        print(ind+1, val)"
   ]
  },
  {
   "cell_type": "code",
   "execution_count": 27,
   "id": "0447e43d",
   "metadata": {},
   "outputs": [
    {
     "name": "stdout",
     "output_type": "stream",
     "text": [
      "1 red\n",
      "2 orahge\n",
      "3 yellow\n",
      "4 green\n",
      "5 blue\n",
      "6 dark blue\n",
      "7 purpule\n"
     ]
    }
   ],
   "source": [
    "spisok_n(elem)"
   ]
  },
  {
   "cell_type": "code",
   "execution_count": 28,
   "id": "dc8932ea",
   "metadata": {},
   "outputs": [
    {
     "name": "stdout",
     "output_type": "stream",
     "text": [
      "1 red\n",
      "2 orahge\n",
      "3 yellow\n",
      "4 green\n",
      "5 blue\n",
      "6 dark blue\n",
      "7 purpule\n"
     ]
    }
   ],
   "source": [
    "spisok_n2(elem)"
   ]
  },
  {
   "cell_type": "markdown",
   "id": "3abf41cc",
   "metadata": {},
   "source": [
    "### Задание 6.2"
   ]
  },
  {
   "cell_type": "markdown",
   "id": "7cb94d42",
   "metadata": {},
   "source": [
    "Создать функцию, которая печатает каждый элемент словарика\n",
    "\n",
    "    КЛЮЧ <<J>> --> ЗНАЧЕНИЕ\n",
    "    КЛЮЧ <<K>> --> ЗНАЧЕНИЕ\n",
    "J, K — ключи словарика\n",
    "\n",
    "Подсказка: тут уже не получится просто создать переменную от 0 до чего-то и перебирать по ней просто увеличивая её на один, потому что в словарике ключи несортированы и непоследовательны. Это, кстати, означает заодно то что порядок вывода в функции может отличаться от того, в каком вы создавали словарик. Тут вам понадобится либо метод keys либо метод items, и может быть, такие понятия как \"распаковка\". Цикл будет сделан с помощью оператора for. Эту задачку можно решить и без цикла через list comprehension. Про работу со словариками посмотрите конец занятия L1.1"
   ]
  },
  {
   "cell_type": "code",
   "execution_count": 29,
   "id": "17fa643d",
   "metadata": {},
   "outputs": [],
   "source": [
    "dict_animals = {'тигр':'кошка', 'леопард':'кошка', 'волк':'собака', 'гиена':'собака'}"
   ]
  },
  {
   "cell_type": "code",
   "execution_count": 30,
   "id": "79f3d7d4",
   "metadata": {},
   "outputs": [],
   "source": [
    "def dict_n(x):\n",
    "    \n",
    "    for key, val in x.items():\n",
    "        \n",
    "        print(key, val)"
   ]
  },
  {
   "cell_type": "code",
   "execution_count": 31,
   "id": "be6dd461",
   "metadata": {},
   "outputs": [
    {
     "name": "stdout",
     "output_type": "stream",
     "text": [
      "тигр кошка\n",
      "леопард кошка\n",
      "волк собака\n",
      "гиена собака\n"
     ]
    }
   ],
   "source": [
    "dict_n(dict_animals)"
   ]
  },
  {
   "cell_type": "markdown",
   "id": "3ca7a4be",
   "metadata": {},
   "source": [
    "### Задание 6.3"
   ]
  },
  {
   "cell_type": "markdown",
   "id": "858942f4",
   "metadata": {},
   "source": [
    "Сделать функцию, которая использует две уже написанные функции следующим образом:\n",
    "\n",
    "если ЗНАЧЕНИЕ это LIST --> вызывается print_list\n",
    "\n",
    "если ЗНАЧЕНИЕ это DICT --> вызывается print_dict\n",
    "\n",
    "во всех других случаях просто выводится ЗНАЧЕНИЕ\n",
    "\n",
    "Подсказка: тут вам вообще не нужны ключи (но можете их тоже печатать), только значения словаря. А для определения типа значений в словарие вам пригодится оператор isinstance. Итерацию по значениям в словарике надо будет сделать через for, а для того чтобы получить значения вы можете использовать как метод items так и values.\n",
    "\n",
    "Собственно, это основной пример в каком-то смысле идей о том, что если у вас сложная задачка, то можно разбить её на несколько маленьких чтобы разделить логику общего выполнения с непосредственно тем, как реализованы отдельные кусочки того, что вы хотите сделать."
   ]
  },
  {
   "cell_type": "code",
   "execution_count": 32,
   "id": "13650f66",
   "metadata": {},
   "outputs": [],
   "source": [
    "dict_animals = {'тигр':'кошка', 'леопард':'кошка', 'волк':'собака', 'гиена':'собака'}\n",
    "elem = ['red', 'orahge', 'yellow', 'green', 'blue', 'dark blue', 'purpule']"
   ]
  },
  {
   "cell_type": "code",
   "execution_count": 33,
   "id": "ec99cb58",
   "metadata": {},
   "outputs": [],
   "source": [
    "def spisok_dict(x):\n",
    "    \n",
    "    if isinstance(x, list): \n",
    "        spisok_n2(x)\n",
    "            \n",
    "    elif isinstance(x, dict):\n",
    "        dict_n(x)\n",
    "    \n",
    "    else: print(x)"
   ]
  },
  {
   "cell_type": "code",
   "execution_count": 34,
   "id": "b506891a",
   "metadata": {},
   "outputs": [
    {
     "name": "stdout",
     "output_type": "stream",
     "text": [
      "тигр кошка\n",
      "леопард кошка\n",
      "волк собака\n",
      "гиена собака\n"
     ]
    }
   ],
   "source": [
    "spisok_dict(dict_animals)"
   ]
  },
  {
   "cell_type": "code",
   "execution_count": 35,
   "id": "fd41d7d3",
   "metadata": {},
   "outputs": [
    {
     "name": "stdout",
     "output_type": "stream",
     "text": [
      "1 red\n",
      "2 orahge\n",
      "3 yellow\n",
      "4 green\n",
      "5 blue\n",
      "6 dark blue\n",
      "7 purpule\n"
     ]
    }
   ],
   "source": [
    "spisok_dict(elem)"
   ]
  },
  {
   "cell_type": "code",
   "execution_count": 36,
   "id": "3d6c6933",
   "metadata": {},
   "outputs": [
    {
     "name": "stdout",
     "output_type": "stream",
     "text": [
      "ля ля ля тру ля ля\n"
     ]
    }
   ],
   "source": [
    "spisok_dict(\"ля ля ля тру ля ля\")"
   ]
  }
 ],
 "metadata": {
  "kernelspec": {
   "display_name": "Python 3 (ipykernel)",
   "language": "python",
   "name": "python3"
  },
  "language_info": {
   "codemirror_mode": {
    "name": "ipython",
    "version": 3
   },
   "file_extension": ".py",
   "mimetype": "text/x-python",
   "name": "python",
   "nbconvert_exporter": "python",
   "pygments_lexer": "ipython3",
   "version": "3.11.5"
  }
 },
 "nbformat": 4,
 "nbformat_minor": 5
}
