{
 "cells": [
  {
   "cell_type": "markdown",
   "id": "d25b4b54",
   "metadata": {},
   "source": [
    "## ДЗ с 1 лекции"
   ]
  },
  {
   "cell_type": "markdown",
   "id": "af711d1c",
   "metadata": {},
   "source": [
    "### Задание 1"
   ]
  },
  {
   "cell_type": "markdown",
   "id": "5a84d36a",
   "metadata": {},
   "source": [
    "#### Сделайте так, чтобы число секунд отображалось в виде дни:часы:минуты:секунды."
   ]
  },
  {
   "cell_type": "code",
   "execution_count": 33,
   "id": "ee4e0195",
   "metadata": {},
   "outputs": [],
   "source": [
    "seconds = 10000"
   ]
  },
  {
   "cell_type": "code",
   "execution_count": 34,
   "id": "4a5a1ad5",
   "metadata": {},
   "outputs": [
    {
     "data": {
      "text/plain": [
       "10000"
      ]
     },
     "execution_count": 34,
     "metadata": {},
     "output_type": "execute_result"
    }
   ],
   "source": [
    "d = seconds // (60*60*24)\n",
    "seconds = seconds - d*24*60*60\n",
    "seconds"
   ]
  },
  {
   "cell_type": "code",
   "execution_count": 35,
   "id": "cea35b2f",
   "metadata": {},
   "outputs": [
    {
     "data": {
      "text/plain": [
       "2"
      ]
     },
     "execution_count": 35,
     "metadata": {},
     "output_type": "execute_result"
    }
   ],
   "source": [
    "h = seconds // (60*60)\n",
    "seconds = seconds - h*60*60\n",
    "h"
   ]
  },
  {
   "cell_type": "code",
   "execution_count": 36,
   "id": "cb5c0825",
   "metadata": {},
   "outputs": [
    {
     "data": {
      "text/plain": [
       "46"
      ]
     },
     "execution_count": 36,
     "metadata": {},
     "output_type": "execute_result"
    }
   ],
   "source": [
    "m = seconds // 60\n",
    "seconds = seconds - m*60\n",
    "m"
   ]
  },
  {
   "cell_type": "code",
   "execution_count": 38,
   "id": "903d569d",
   "metadata": {},
   "outputs": [
    {
     "name": "stdout",
     "output_type": "stream",
     "text": [
      "0:2:46:40\n"
     ]
    }
   ],
   "source": [
    "print(d, h, m, seconds, sep = \":\")"
   ]
  },
  {
   "cell_type": "markdown",
   "id": "d919fc48",
   "metadata": {},
   "source": [
    "### Задание 2"
   ]
  },
  {
   "cell_type": "markdown",
   "id": "79ab9755",
   "metadata": {},
   "source": [
    "#### Напишите калькулятор который запрашивает на входе две переменные и знак, и в соответствии с знаком ( + - * / ) выводит результат"
   ]
  },
  {
   "cell_type": "code",
   "execution_count": 47,
   "id": "d0b27c47",
   "metadata": {},
   "outputs": [
    {
     "name": "stdout",
     "output_type": "stream",
     "text": [
      "Первая переменная: 12\n",
      "Вторая переменная: 123\n",
      "Знак: *\n",
      "Ответ:  1476.0\n"
     ]
    }
   ],
   "source": [
    "per_1 = float(input(\"Первая переменная: \"))\n",
    "per_2 = float(input(\"Вторая переменная: \"))\n",
    "znak = input(\"Знак: \")\n",
    "\n",
    "if znak == \"+\":\n",
    "    x = per_1 + per_2\n",
    "if znak == \"-\":\n",
    "    x = per_1 - per_2\n",
    "if znak == \"*\":\n",
    "    x = per_1 * per_2\n",
    "else: x = per_1 / per_2\n",
    "\n",
    "print(\"Ответ: \", x)"
   ]
  },
  {
   "cell_type": "markdown",
   "id": "15351aee",
   "metadata": {},
   "source": [
    "### Задание 3"
   ]
  },
  {
   "cell_type": "markdown",
   "id": "58262e10",
   "metadata": {},
   "source": [
    "#### Считайте 2 строки и выведите их на печать, разделив символом $.\n",
    "Попробуйте решить эту задачу как минимум 2 способами:\n",
    "\n",
    "1)с помощью конкатенации строк\n",
    "\n",
    "2)с помощью указания разделителя в параметре sep метода print"
   ]
  },
  {
   "cell_type": "code",
   "execution_count": 52,
   "id": "e5602a35",
   "metadata": {},
   "outputs": [
    {
     "name": "stdout",
     "output_type": "stream",
     "text": [
      "M\n",
      "M's\n",
      "M$M's\n",
      "M$M's\n",
      "M$M's\n",
      "M$M's\n"
     ]
    }
   ],
   "source": [
    "strk_1 = input()\n",
    "strk_2 = input()\n",
    "\n",
    "print(strk_1 + \"$\" + strk_2)\n",
    "print(f\"{strk_1}${strk_2}\")\n",
    "print(\"$\".join([strk_1, strk_2]))\n",
    "print(strk_1, strk_2, sep = \"$\")"
   ]
  },
  {
   "cell_type": "markdown",
   "id": "6eb71026",
   "metadata": {},
   "source": [
    "### Задание 4"
   ]
  },
  {
   "cell_type": "markdown",
   "id": "e55013e9",
   "metadata": {},
   "source": [
    "#### Напишите поздравление с Днем рождения, где программа считает имя и возраст и выведет поздравление столько раз, сколько лет именнинику"
   ]
  },
  {
   "cell_type": "code",
   "execution_count": 57,
   "id": "8c085713",
   "metadata": {},
   "outputs": [
    {
     "name": "stdout",
     "output_type": "stream",
     "text": [
      "Имя: Саша\n",
      "Возраст: 5\n",
      "С днем Рождения, Саша\n",
      "С днем Рождения, Саша\n",
      "С днем Рождения, Саша\n",
      "С днем Рождения, Саша\n",
      "С днем Рождения, Саша\n"
     ]
    }
   ],
   "source": [
    "name = input('Имя: ')\n",
    "age = int(input('Возраст: '))\n",
    "\n",
    "for i in range(age):\n",
    "    print(\"С днем Рождения\", name, sep = \", \")\n",
    "    "
   ]
  }
 ],
 "metadata": {
  "kernelspec": {
   "display_name": "Python 3 (ipykernel)",
   "language": "python",
   "name": "python3"
  },
  "language_info": {
   "codemirror_mode": {
    "name": "ipython",
    "version": 3
   },
   "file_extension": ".py",
   "mimetype": "text/x-python",
   "name": "python",
   "nbconvert_exporter": "python",
   "pygments_lexer": "ipython3",
   "version": "3.11.5"
  }
 },
 "nbformat": 4,
 "nbformat_minor": 5
}
