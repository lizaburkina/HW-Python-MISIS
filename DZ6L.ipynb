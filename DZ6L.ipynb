{
 "cells": [
  {
   "cell_type": "markdown",
   "id": "26ea2e2d",
   "metadata": {},
   "source": [
    "## ДЗ с 6 лекции"
   ]
  },
  {
   "cell_type": "markdown",
   "id": "dac6ea51",
   "metadata": {},
   "source": [
    "### Задание 1"
   ]
  },
  {
   "cell_type": "markdown",
   "id": "6cacd1e6",
   "metadata": {},
   "source": [
    "Напишите программу с классом Student, в котором есть три атрибута: name, groupNumber и age. По умолчанию name = Ivan, age = 18, groupNumber = 10A. Необходимо создать пять методов: getName, getAge, getGroupNumber, setNameAge, setGroupNumber. Метод getName нужен для получения данных об имени конкретного студента, метод getAge нужен для получения данных о возрасте конкретного студента, vетод getGroupNumber нужен для получения данных о номере группы конкретного студента. Метод SetNameAge позволяет изменить данные атрибутов установленных по умолчанию, метод setGroupNumber позволяет изменить номер группы установленный по умолчанию. В программе необходимо создать пять экземпляров класса Student, установить им разные имена, возраст и номер группы."
   ]
  },
  {
   "cell_type": "code",
   "execution_count": 111,
   "id": "da98f450",
   "metadata": {},
   "outputs": [],
   "source": [
    "class Student:\n",
    "    \n",
    "    def __init__(self, name = 'Ivan', age = 18, groupNumber = '10A'):\n",
    "        \"\"\"\n",
    "        Args:\n",
    "            name:     \n",
    "            age:    \n",
    "            groupNumber:          \n",
    "        \"\"\"\n",
    "        self.name = name\n",
    "        self.age = age\n",
    "        self.groupNumber = groupNumber\n",
    "        \n",
    "    def getName(self):\n",
    "        return self.name\n",
    "    \n",
    "    def getAge(self):\n",
    "        return self.age\n",
    "    \n",
    "    def getGroupNumber(self):\n",
    "        return self.groupNumber\n",
    "    \n",
    "    def setNameAge(self, newname, newage):\n",
    "        self.name = newname\n",
    "        self.age = newage\n",
    "        \n",
    "    def setGroupNumber(self, newgroupNumber):\n",
    "        self.groupNumber = newgroupNumber\n",
    "        \n",
    "    def __str__(self):\n",
    "        return \"%s %s %s\" % (self.name, self.age, self.groupNumber)"
   ]
  },
  {
   "cell_type": "code",
   "execution_count": 112,
   "id": "78c8f644",
   "metadata": {},
   "outputs": [
    {
     "name": "stdout",
     "output_type": "stream",
     "text": [
      "Ann 17 10A\n"
     ]
    }
   ],
   "source": [
    "st1 = Student()\n",
    "st1.setNameAge('Ann', 17)\n",
    "\n",
    "print(st1)"
   ]
  },
  {
   "cell_type": "code",
   "execution_count": 113,
   "id": "6a02294c",
   "metadata": {},
   "outputs": [
    {
     "name": "stdout",
     "output_type": "stream",
     "text": [
      "Dasha 16 9A\n"
     ]
    }
   ],
   "source": [
    "st2 = Student('Dasha', 16, '9A')\n",
    "\n",
    "print(st2)"
   ]
  },
  {
   "cell_type": "code",
   "execution_count": 114,
   "id": "963cf75d",
   "metadata": {},
   "outputs": [
    {
     "name": "stdout",
     "output_type": "stream",
     "text": [
      "Ivan 18 10A\n"
     ]
    }
   ],
   "source": [
    "st3 = Student()\n",
    "\n",
    "print(st3)"
   ]
  },
  {
   "cell_type": "code",
   "execution_count": 115,
   "id": "088bb1a2",
   "metadata": {},
   "outputs": [
    {
     "name": "stdout",
     "output_type": "stream",
     "text": [
      "Ivan 18 11B\n"
     ]
    }
   ],
   "source": [
    "st4 = Student()\n",
    "st4.setGroupNumber('11B')\n",
    "\n",
    "print(st4)"
   ]
  },
  {
   "cell_type": "code",
   "execution_count": 110,
   "id": "df2c96fa",
   "metadata": {},
   "outputs": [
    {
     "name": "stdout",
     "output_type": "stream",
     "text": [
      "Lisa 17 11B\n"
     ]
    }
   ],
   "source": [
    "st5 = Student()\n",
    "st5.setNameAge('Lisa', 17)\n",
    "st5.setGroupNumber('11B')\n",
    "\n",
    "print(st5)"
   ]
  },
  {
   "cell_type": "markdown",
   "id": "72ffc0ed",
   "metadata": {},
   "source": [
    "### Задание 2"
   ]
  },
  {
   "cell_type": "markdown",
   "id": "f4a5fdc3",
   "metadata": {},
   "source": [
    "Напишите программу с классом Car. Создайте конструктор класса Car. Создайте атрибуты класса Car — color (цвет), type (тип), year (год). Напишите пять методов. Первый — запуск автомобиля, при его вызове выводится сообщение «Автомобиль заведен». Второй — отключение автомобиля — выводит сообщение «Автомобиль заглушен». Третий — присвоение автомобилю года выпуска. Четвертый метод — присвоение автомобилю типа. Пятый — присвоение автомобилю цвета."
   ]
  },
  {
   "cell_type": "code",
   "execution_count": 82,
   "id": "32459f47",
   "metadata": {},
   "outputs": [],
   "source": [
    "class Car:\n",
    "    \n",
    "    def __init__(self, color = \"не указано\", carType = \"не указано\", year = \"не указано\"):\n",
    "        \n",
    "        self.color = color\n",
    "        self.carType =  carType\n",
    "        self.year = year\n",
    "        \n",
    "    def startCar(self): \n",
    "        return \"Автомобиль заведен\"\n",
    "    \n",
    "    def stopCar(self):\n",
    "        return \"Автомобиль заглушен\"\n",
    "    \n",
    "    def setYear(self, year):\n",
    "        self.year = year\n",
    "            \n",
    "    def setType(self, carType):\n",
    "        self.carType = carType \n",
    "            \n",
    "    def setColor(self, color):\n",
    "        self.color = color   \n",
    "        \n",
    "    def __str__(self):\n",
    "        return \"%s %s %s\" % (self.color, self.carType, self.year)"
   ]
  },
  {
   "cell_type": "code",
   "execution_count": 83,
   "id": "71c4c612",
   "metadata": {},
   "outputs": [
    {
     "data": {
      "text/plain": [
       "'Автомобиль заведен'"
      ]
     },
     "execution_count": 83,
     "metadata": {},
     "output_type": "execute_result"
    }
   ],
   "source": [
    "car1 = Car()\n",
    "\n",
    "car1.startCar()"
   ]
  },
  {
   "cell_type": "code",
   "execution_count": 84,
   "id": "1c14ac5d",
   "metadata": {},
   "outputs": [],
   "source": [
    "car1.setYear(2012)\n",
    "car1.setType(\"Джип\")\n",
    "car1.setColor(\"Желтая\")"
   ]
  },
  {
   "cell_type": "code",
   "execution_count": 85,
   "id": "96510ea4",
   "metadata": {},
   "outputs": [
    {
     "name": "stdout",
     "output_type": "stream",
     "text": [
      "Желтая Джип 2012\n"
     ]
    }
   ],
   "source": [
    "print(car1)"
   ]
  },
  {
   "cell_type": "code",
   "execution_count": 89,
   "id": "2810d7b0",
   "metadata": {},
   "outputs": [
    {
     "data": {
      "text/plain": [
       "'Автомобиль заглушен'"
      ]
     },
     "execution_count": 89,
     "metadata": {},
     "output_type": "execute_result"
    }
   ],
   "source": [
    "car1.startCar()\n",
    "car1.stopCar()"
   ]
  },
  {
   "cell_type": "markdown",
   "id": "c0a58cbe",
   "metadata": {},
   "source": [
    "### Задание 3"
   ]
  },
  {
   "attachments": {},
   "cell_type": "markdown",
   "id": "07fb3f08",
   "metadata": {},
   "source": [
    "Допишите функцию Nutrion"
   ]
  },
  {
   "cell_type": "code",
   "execution_count": 123,
   "id": "224c4027",
   "metadata": {},
   "outputs": [],
   "source": [
    "class NutritionInfo:\n",
    "    def __init__(self, proteins, carbs, fats):\n",
    "        self.proteins = proteins\n",
    "        self.carbs = carbs\n",
    "        self.fats = fats\n",
    "    \n",
    "    def __add__(self, other):\n",
    "        return NutritionInfo(self.proteins + other.proteins, self.carbs + other.carbs, self.fats + other.fats)\n",
    "    \n",
    "    def __str__(self):\n",
    "        return f\"Nutrition p {self.proteins}, c {self.carbs}, f {self.fats}\"\n",
    "    \n",
    "    def __mul__(self, other):\n",
    "        return NutritionInfo(self.proteins * other, self.carbs * other, self.fats * other)\n",
    "        \n",
    "    def energy(self):\n",
    "        return int(self.fats * 9 + (self.carbs + self.proteins) * 4.2)"
   ]
  },
  {
   "cell_type": "code",
   "execution_count": 124,
   "id": "19ea4aed",
   "metadata": {},
   "outputs": [
    {
     "name": "stdout",
     "output_type": "stream",
     "text": [
      "Nutrition p 2, c 4, f 6\n"
     ]
    }
   ],
   "source": [
    "egg = NutritionInfo(1, 2, 3)\n",
    "pastila = NutritionInfo(1, 2, 3)\n",
    "tvorog_9 = NutritionInfo(18, 3, 9)\n",
    "apple = NutritionInfo(0, 25, 0)\n",
    "\n",
    "print(egg + pastila)"
   ]
  },
  {
   "cell_type": "code",
   "execution_count": 125,
   "id": "e6809357",
   "metadata": {},
   "outputs": [],
   "source": [
    "breakfast = apple + tvorog_9 + pastila"
   ]
  },
  {
   "cell_type": "code",
   "execution_count": 126,
   "id": "79d07680",
   "metadata": {},
   "outputs": [
    {
     "data": {
      "text/plain": [
       "313"
      ]
     },
     "execution_count": 126,
     "metadata": {},
     "output_type": "execute_result"
    }
   ],
   "source": [
    "breakfast.energy()"
   ]
  },
  {
   "cell_type": "code",
   "execution_count": 132,
   "id": "4b450684",
   "metadata": {},
   "outputs": [],
   "source": [
    "breakfast = apple * 3"
   ]
  },
  {
   "cell_type": "code",
   "execution_count": 133,
   "id": "762b8fd6",
   "metadata": {},
   "outputs": [
    {
     "data": {
      "text/plain": [
       "315"
      ]
     },
     "execution_count": 133,
     "metadata": {},
     "output_type": "execute_result"
    }
   ],
   "source": [
    "breakfast.energy()"
   ]
  }
 ],
 "metadata": {
  "kernelspec": {
   "display_name": "Python 3 (ipykernel)",
   "language": "python",
   "name": "python3"
  },
  "language_info": {
   "codemirror_mode": {
    "name": "ipython",
    "version": 3
   },
   "file_extension": ".py",
   "mimetype": "text/x-python",
   "name": "python",
   "nbconvert_exporter": "python",
   "pygments_lexer": "ipython3",
   "version": "3.11.5"
  }
 },
 "nbformat": 4,
 "nbformat_minor": 5
}
