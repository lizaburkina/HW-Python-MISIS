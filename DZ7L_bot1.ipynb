{
 "cells": [
  {
   "cell_type": "code",
   "execution_count": 59,
   "id": "53ac07ae",
   "metadata": {
    "scrolled": false
   },
   "outputs": [
    {
     "name": "stdout",
     "output_type": "stream",
     "text": [
      "Requirement already satisfied: pytelegrambotapi in c:\\users\\eburkina\\appdata\\local\\anaconda3\\lib\\site-packages (4.14.0)Note: you may need to restart the kernel to use updated packages.\n",
      "\n",
      "Requirement already satisfied: requests in c:\\users\\eburkina\\appdata\\local\\anaconda3\\lib\\site-packages (from pytelegrambotapi) (2.31.0)\n",
      "Requirement already satisfied: charset-normalizer<4,>=2 in c:\\users\\eburkina\\appdata\\local\\anaconda3\\lib\\site-packages (from requests->pytelegrambotapi) (2.0.4)\n",
      "Requirement already satisfied: idna<4,>=2.5 in c:\\users\\eburkina\\appdata\\local\\anaconda3\\lib\\site-packages (from requests->pytelegrambotapi) (3.4)\n",
      "Requirement already satisfied: urllib3<3,>=1.21.1 in c:\\users\\eburkina\\appdata\\local\\anaconda3\\lib\\site-packages (from requests->pytelegrambotapi) (1.26.16)\n",
      "Requirement already satisfied: certifi>=2017.4.17 in c:\\users\\eburkina\\appdata\\local\\anaconda3\\lib\\site-packages (from requests->pytelegrambotapi) (2023.7.22)\n"
     ]
    }
   ],
   "source": [
    "pip install pytelegrambotapi"
   ]
  },
  {
   "cell_type": "code",
   "execution_count": 60,
   "id": "35a52a8f",
   "metadata": {
    "scrolled": true
   },
   "outputs": [
    {
     "name": "stdout",
     "output_type": "stream",
     "text": [
      "Requirement already satisfied: validators in c:\\users\\eburkina\\appdata\\local\\anaconda3\\lib\\site-packages (0.22.0)\n",
      "Note: you may need to restart the kernel to use updated packages.\n"
     ]
    }
   ],
   "source": [
    "pip install validators"
   ]
  },
  {
   "cell_type": "markdown",
   "id": "d25b4b54",
   "metadata": {},
   "source": [
    "## ДЗ с 7 лекции"
   ]
  },
  {
   "cell_type": "markdown",
   "id": "af711d1c",
   "metadata": {},
   "source": [
    "### Задание 1"
   ]
  },
  {
   "cell_type": "markdown",
   "id": "5a84d36a",
   "metadata": {},
   "source": [
    "#### Написать бота который будет проверять доступность сайта"
   ]
  },
  {
   "cell_type": "markdown",
   "id": "850886f8",
   "metadata": {},
   "source": [
    "https://t.me/SA_besbot"
   ]
  },
  {
   "cell_type": "code",
   "execution_count": 61,
   "id": "b81d87be",
   "metadata": {},
   "outputs": [],
   "source": [
    "import requests\n",
    "\n",
    "def check_site(site_name):\n",
    "        try:\n",
    "            response = requests.get(site_name)\n",
    "            return True\n",
    "        except:\n",
    "            return False"
   ]
  },
  {
   "cell_type": "code",
   "execution_count": 62,
   "id": "ccfe06ea",
   "metadata": {},
   "outputs": [],
   "source": [
    "import telebot\n",
    "bot_1 = telebot.TeleBot('ы')"
   ]
  },
  {
   "cell_type": "code",
   "execution_count": 63,
   "id": "707c378b",
   "metadata": {},
   "outputs": [],
   "source": [
    "import validators\n",
    "\n",
    "@bot_1.message_handler(commands=['start'])\n",
    "def start(message):\n",
    "    bot_1.send_message(message.chat.id, f\"Привет, {message.from_user.first_name}, ты можешь прислать мне ссылку на сайт, а я проверю доступен он или нет)\")\n",
    "    print(message.from_user.first_name, message.from_user.username)\n",
    "    \n",
    "@bot_1.message_handler(content_types=[\"text\"])\n",
    "def handle_text(message):\n",
    "    link = message.text\n",
    "    if validators.url(link) == True:\n",
    "        if check_site(link) == True:\n",
    "            bot_1.send_message(message.chat.id, f\"{message.from_user.first_name}, сайт работает!)\")\n",
    "        else:\n",
    "            bot_1.send_message(message.chat.id, f\"{message.from_user.first_name}, сайт дохлый(\")    \n",
    "    else:\n",
    "        bot_1.send_message(message.chat.id, f\"{message.from_user.first_name}, мне нужна ссылка в чистом виде, просто пришли ссылку!\")\n",
    "    print(message.from_user.first_name, message.from_user.username)\n",
    "\n"
   ]
  },
  {
   "cell_type": "code",
   "execution_count": null,
   "id": "1fc7f32a",
   "metadata": {},
   "outputs": [
    {
     "name": "stdout",
     "output_type": "stream",
     "text": [
      "Liza eburkinas\n"
     ]
    }
   ],
   "source": [
    "bot_1.polling(none_stop=True, interval=0)"
   ]
  },
  {
   "cell_type": "code",
   "execution_count": null,
   "id": "49d8843d",
   "metadata": {},
   "outputs": [],
   "source": []
  }
 ],
 "metadata": {
  "kernelspec": {
   "display_name": "Python 3 (ipykernel)",
   "language": "python",
   "name": "python3"
  },
  "language_info": {
   "codemirror_mode": {
    "name": "ipython",
    "version": 3
   },
   "file_extension": ".py",
   "mimetype": "text/x-python",
   "name": "python",
   "nbconvert_exporter": "python",
   "pygments_lexer": "ipython3",
   "version": "3.11.5"
  }
 },
 "nbformat": 4,
 "nbformat_minor": 5
}
