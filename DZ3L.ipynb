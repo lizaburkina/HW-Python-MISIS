{
 "cells": [
  {
   "cell_type": "markdown",
   "id": "d25b4b54",
   "metadata": {},
   "source": [
    "## ДЗ со 2 лекции"
   ]
  },
  {
   "cell_type": "markdown",
   "id": "af711d1c",
   "metadata": {},
   "source": [
    "### Задание 1"
   ]
  },
  {
   "cell_type": "markdown",
   "id": "5a84d36a",
   "metadata": {},
   "source": [
    "#### Какой месяц"
   ]
  },
  {
   "cell_type": "code",
   "execution_count": 13,
   "id": "1b6ddcb9",
   "metadata": {},
   "outputs": [],
   "source": [
    "months = ['Январь', 'Февраль', 'Март', 'Апрель', 'Май', 'Июнь', 'Июль', 'Август', 'Сентябрь', 'Октябрь', 'Ноябрь', 'Декабрь']"
   ]
  },
  {
   "cell_type": "code",
   "execution_count": 56,
   "id": "ee4e0195",
   "metadata": {},
   "outputs": [
    {
     "name": "stdout",
     "output_type": "stream",
     "text": [
      "Номер месяца: 1\n",
      "Январь\n"
     ]
    }
   ],
   "source": [
    "num_month = int(input(\"Номер месяца: \"))\n",
    "if num_month == 1:\n",
    "    print('Январь')\n",
    "elif num_month == 2:\n",
    "    print('Февраль')\n",
    "elif num_month == 3:\n",
    "    print('Март')\n",
    "elif num_month == 4:\n",
    "    print('Апрель')\n",
    "elif num_month == 5:\n",
    "    print('Май')\n",
    "elif num_month == 6:\n",
    "    print('Июнь')\n",
    "elif num_month == 7:\n",
    "    print('Июль')\n",
    "elif num_month == 8:\n",
    "    print('Август')\n",
    "elif num_month == 9:\n",
    "    print('Сентябрь')\n",
    "elif num_month == 10:\n",
    "    print('Октябрь')\n",
    "elif num_month == 11:\n",
    "    print('Ноябрь')\n",
    "elif num_month == 12:\n",
    "    print('Декабрь')\n",
    "else:\n",
    "    print('error')"
   ]
  },
  {
   "cell_type": "code",
   "execution_count": 61,
   "id": "b7ad8a26",
   "metadata": {},
   "outputs": [
    {
     "name": "stdout",
     "output_type": "stream",
     "text": [
      "Номер месяца: 1\n",
      "Январь\n"
     ]
    }
   ],
   "source": [
    "num = int(input(\"Номер месяца: \"))\n",
    "months={1:'Январь',2:'Февраль',3:'Март',4:'Апрель',5:'Май',6:'Июнь',7:'Июль',8:'Август',9:'Сентябрь',10:'Октябрь',\n",
    "        11:'Ноябрь',12:'Декабрь'}\n",
    "if num < 13:\n",
    "    print(months[num])\n",
    "else:print(\"Error\")"
   ]
  },
  {
   "cell_type": "code",
   "execution_count": 62,
   "id": "7d79698b",
   "metadata": {},
   "outputs": [
    {
     "name": "stdout",
     "output_type": "stream",
     "text": [
      "1\n",
      "Январь\n"
     ]
    }
   ],
   "source": [
    "months = ['Январь', 'Февраль', 'Март', 'Апрель', 'Май', 'Июнь', 'Июль', 'Август', 'Сентябрь', 'Октябрь', 'Ноябрь', 'Декабрь']\n",
    "num = int(input())\n",
    "print(months[num - 1])"
   ]
  },
  {
   "cell_type": "markdown",
   "id": "d919fc48",
   "metadata": {},
   "source": [
    "### Задание 2"
   ]
  },
  {
   "cell_type": "markdown",
   "id": "79ab9755",
   "metadata": {},
   "source": [
    "#### Наибольший общий делитель"
   ]
  },
  {
   "cell_type": "markdown",
   "id": "a792234b",
   "metadata": {},
   "source": [
    "Алгоритм Евклида (либо смотрим на остатки, либо на разницу)"
   ]
  },
  {
   "cell_type": "markdown",
   "id": "6764fcc6",
   "metadata": {},
   "source": [
    "1. Разница"
   ]
  },
  {
   "cell_type": "code",
   "execution_count": 2,
   "id": "940f3e4c",
   "metadata": {},
   "outputs": [],
   "source": [
    "a = 600\n",
    "b = 1012"
   ]
  },
  {
   "cell_type": "code",
   "execution_count": 5,
   "id": "d0b27c47",
   "metadata": {},
   "outputs": [
    {
     "name": "stdout",
     "output_type": "stream",
     "text": [
      "4\n"
     ]
    }
   ],
   "source": [
    "while a != b:\n",
    "    if a > b:\n",
    "        nod = a - b\n",
    "        a = nod\n",
    "    else:\n",
    "        nod = b - a \n",
    "        b = nod\n",
    "        \n",
    "print(nod)"
   ]
  },
  {
   "cell_type": "code",
   "execution_count": 17,
   "id": "701dbe2c",
   "metadata": {},
   "outputs": [],
   "source": [
    "def nod(a, b): \n",
    "    while a != 0 and b != 0:\n",
    "        if a > b: \n",
    "            a = a - b\n",
    "        else: \n",
    "            b = b - a \n",
    "    return max(a, b)"
   ]
  },
  {
   "cell_type": "code",
   "execution_count": 18,
   "id": "b16ad1db",
   "metadata": {},
   "outputs": [
    {
     "data": {
      "text/plain": [
       "6"
      ]
     },
     "execution_count": 18,
     "metadata": {},
     "output_type": "execute_result"
    }
   ],
   "source": [
    "nod(54, 12)"
   ]
  },
  {
   "cell_type": "markdown",
   "id": "d5c3e046",
   "metadata": {},
   "source": [
    "2. Остаток"
   ]
  },
  {
   "cell_type": "code",
   "execution_count": 20,
   "id": "04b8c904",
   "metadata": {},
   "outputs": [],
   "source": [
    "def nod_ost(a, b): \n",
    "    while a != 0 and b != 0:\n",
    "        if a > b:\n",
    "            a = a % b \n",
    "        else:\n",
    "            b = b % a \n",
    "    return max(a, b)"
   ]
  },
  {
   "cell_type": "code",
   "execution_count": 21,
   "id": "7802598a",
   "metadata": {},
   "outputs": [
    {
     "data": {
      "text/plain": [
       "25"
      ]
     },
     "execution_count": 21,
     "metadata": {},
     "output_type": "execute_result"
    }
   ],
   "source": [
    "nod_ost(325, 1075)"
   ]
  },
  {
   "cell_type": "markdown",
   "id": "15351aee",
   "metadata": {},
   "source": [
    "### Задание 3"
   ]
  },
  {
   "cell_type": "markdown",
   "id": "58262e10",
   "metadata": {},
   "source": [
    "#### Проверка расширения файла"
   ]
  },
  {
   "cell_type": "code",
   "execution_count": 70,
   "id": "e5602a35",
   "metadata": {},
   "outputs": [],
   "source": [
    "file = 'Моя диссертац.gif'\n",
    "extensions = ['png', 'jpg', 'jpeg', 'gif', 'svg']"
   ]
  },
  {
   "cell_type": "markdown",
   "id": "bf4ef364",
   "metadata": {},
   "source": [
    "Метод find() используется для поиска в строке. В качестве обязательного аргумента принимает строку, которую нужно найти. Метод возвращает индекс символа, с которого начинается искомая строка. Если строка не найдена, метод вернет -1."
   ]
  },
  {
   "cell_type": "code",
   "execution_count": 77,
   "id": "bea16bb4",
   "metadata": {},
   "outputs": [
    {
     "name": "stdout",
     "output_type": "stream",
     "text": [
      "gif\n"
     ]
    }
   ],
   "source": [
    "for extension in extensions:\n",
    "    if file.find(extension) != -1:\n",
    "        print(extension)\n",
    "        break"
   ]
  },
  {
   "cell_type": "markdown",
   "id": "6eb71026",
   "metadata": {},
   "source": [
    "### Задание 4"
   ]
  },
  {
   "cell_type": "markdown",
   "id": "e55013e9",
   "metadata": {},
   "source": [
    "#### Вискосный Год\n",
    "год, номер которого кратен 400, — високосный;\n",
    "\n",
    "остальные годы, номер которых кратен 100, — невисокосные;\n",
    "\n",
    "остальные годы, номер которых кратен 4, — високосные."
   ]
  },
  {
   "cell_type": "code",
   "execution_count": 5,
   "id": "8c085713",
   "metadata": {},
   "outputs": [],
   "source": [
    "year=2022"
   ]
  },
  {
   "cell_type": "code",
   "execution_count": 10,
   "id": "b422d8e8",
   "metadata": {},
   "outputs": [
    {
     "name": "stdout",
     "output_type": "stream",
     "text": [
      "2100\n",
      "Невискосный Год\n"
     ]
    }
   ],
   "source": [
    "year = int(input())\n",
    "\n",
    "if (year % 400 != 0) and (year % 100 == 0) or (year % 4 != 0):\n",
    "    print(\"Невискосный Год\")\n",
    "else:\n",
    "    print(\"Вискосный Год\")"
   ]
  }
 ],
 "metadata": {
  "kernelspec": {
   "display_name": "Python 3 (ipykernel)",
   "language": "python",
   "name": "python3"
  },
  "language_info": {
   "codemirror_mode": {
    "name": "ipython",
    "version": 3
   },
   "file_extension": ".py",
   "mimetype": "text/x-python",
   "name": "python",
   "nbconvert_exporter": "python",
   "pygments_lexer": "ipython3",
   "version": "3.11.5"
  }
 },
 "nbformat": 4,
 "nbformat_minor": 5
}
