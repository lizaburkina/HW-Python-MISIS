{
 "cells": [
  {
   "cell_type": "markdown",
   "id": "446eab11",
   "metadata": {},
   "source": [
    "### Задание 1"
   ]
  },
  {
   "cell_type": "markdown",
   "id": "80343af0",
   "metadata": {},
   "source": [
    "Средний бал и список отстающих учеников:\n",
    "\n",
    "Иванов О. 4\n",
    "Петров И. 3\n",
    "Дмитриев Н. 2\n",
    "Смирнова О. 4\n",
    "Керченских В. 5\n",
    "Котов Д. 2\n",
    "Бирюкова Н. 1\n",
    "Данилов П. 3\n",
    "Аранских В. 5\n",
    "Лемонов Ю. 2\n",
    "Олегова К. 4"
   ]
  },
  {
   "cell_type": "code",
   "execution_count": 94,
   "id": "b70f59e7",
   "metadata": {},
   "outputs": [
    {
     "name": "stdout",
     "output_type": "stream",
     "text": [
      "['Иванов О. 4', 'Петров И. 3', 'Дмитриев Н. 2', 'Смирнова О. 4', 'Керченских В. 5', 'Котов Д. 2', 'Бирюкова Н. 1', 'Данилов П. 3', 'Аранских В. 5', 'Лемонов Ю. 2', 'Олегова К. 4']\n"
     ]
    }
   ],
   "source": [
    "file = 'Оценки учеников.txt'\n",
    "lines = []\n",
    "with open(file, 'r', encoding = \"utf-8\") as f:\n",
    "    for line in f.readlines():\n",
    "        lines.append(line.strip('\\n'))\n",
    "    print(lines)"
   ]
  },
  {
   "cell_type": "code",
   "execution_count": 88,
   "id": "6e84714f",
   "metadata": {},
   "outputs": [
    {
     "data": {
      "text/plain": [
       "['Иванов О. 4',\n",
       " 'Петров И. 3',\n",
       " 'Дмитриев Н. 2',\n",
       " 'Смирнова О. 4',\n",
       " 'Керченских В. 5',\n",
       " 'Котов Д. 2',\n",
       " 'Бирюкова Н. 1',\n",
       " 'Данилов П. 3',\n",
       " 'Аранских В. 5',\n",
       " 'Лемонов Ю. 2',\n",
       " 'Олегова К. 4']"
      ]
     },
     "execution_count": 88,
     "metadata": {},
     "output_type": "execute_result"
    }
   ],
   "source": [
    "with open(\"Оценки учеников.txt\", \"r\", encoding = \"utf-8\") as file:\n",
    "    contents = file.readlines()\n",
    "    lines = []\n",
    "    for line in contents:\n",
    "        lines.append(line.strip('\\n'))\n",
    "  \n",
    "lines"
   ]
  },
  {
   "cell_type": "code",
   "execution_count": 125,
   "id": "8891838b",
   "metadata": {},
   "outputs": [
    {
     "data": {
      "text/plain": [
       "['Иванов О. 4',\n",
       " 'Петров И. 3',\n",
       " 'Дмитриев Н. 2',\n",
       " 'Смирнова О. 4',\n",
       " 'Керченских В. 5',\n",
       " 'Котов Д. 2',\n",
       " 'Бирюкова Н. 1',\n",
       " 'Данилов П. 3',\n",
       " 'Аранских В. 5',\n",
       " 'Лемонов Ю. 2',\n",
       " 'Олегова К. 4']"
      ]
     },
     "execution_count": 125,
     "metadata": {},
     "output_type": "execute_result"
    }
   ],
   "source": [
    "with open(\"Оценки учеников.txt\", \"r\", encoding = \"utf-8\") as file:\n",
    "    lines = [\n",
    "        line.strip(\"\\n\")\n",
    "        for line in file.readlines()\n",
    "    ]\n",
    "lines"
   ]
  },
  {
   "cell_type": "code",
   "execution_count": 136,
   "id": "378bcd0c",
   "metadata": {},
   "outputs": [],
   "source": [
    "class Person:\n",
    "    \n",
    "    def __init__(self, last_name='', first_name='', mark=0):\n",
    "        \"\"\"\n",
    "        Args:\n",
    "            last_name:     \n",
    "            first_name:    \n",
    "            mark:          \n",
    "        \"\"\"\n",
    "        self.last_name = last_name\n",
    "        self.first_name = first_name\n",
    "        self.mark = mark\n",
    "    \n",
    "def parse_person_from_string(line):\n",
    "    \n",
    "    info = line.split(' ')\n",
    "    return Person(info[0], info[1], int(info[2]))    "
   ]
  },
  {
   "cell_type": "code",
   "execution_count": 133,
   "id": "a4b7667a",
   "metadata": {},
   "outputs": [],
   "source": [
    "persons = []\n",
    "for line in lines:\n",
    "    persons.append(parse_person_from_string(line))"
   ]
  },
  {
   "cell_type": "code",
   "execution_count": 147,
   "id": "3c281bc9",
   "metadata": {},
   "outputs": [
    {
     "name": "stdout",
     "output_type": "stream",
     "text": [
      "3.1818181818181817\n"
     ]
    }
   ],
   "source": [
    "sum = 0\n",
    "ind = 0\n",
    "for person in persons:\n",
    "    sum += person.mark\n",
    "    ind += 1\n",
    "print(sum/ind)"
   ]
  },
  {
   "cell_type": "code",
   "execution_count": 149,
   "id": "eb0c7570",
   "metadata": {},
   "outputs": [
    {
     "name": "stdout",
     "output_type": "stream",
     "text": [
      "Дмитриев Н.\n",
      "Котов Д.\n",
      "Бирюкова Н.\n",
      "Лемонов Ю.\n"
     ]
    }
   ],
   "source": [
    "for person in persons:\n",
    "    if person.mark < 3:\n",
    "        print(person.last_name, person.first_name)"
   ]
  },
  {
   "cell_type": "markdown",
   "id": "3acb3efb",
   "metadata": {},
   "source": [
    "### Задание 2"
   ]
  },
  {
   "cell_type": "markdown",
   "id": "07ace77a",
   "metadata": {},
   "source": [
    "Посчитать количество определенных слов в файле"
   ]
  },
  {
   "cell_type": "markdown",
   "id": "d179561b",
   "metadata": {
    "scrolled": true
   },
   "source": [
    "Понедельник\n",
    "\tФизика (лекц.)\n",
    "\tФизика (лаб.)\n",
    "\tАлгебра (практ.)\n",
    " \n",
    "Вторник\n",
    "\tГеометрия (лекц.)\n",
    "\tФизика (практ.)\n",
    "\tФизика (лаба.)\n",
    "\tФизкультура (практик.)\n",
    "...\n",
    "\n",
    "print('Лекций:', lec)\n",
    "print('Практических:', pract)\n",
    "print('Лабораторных:', lab)"
   ]
  },
  {
   "cell_type": "code",
   "execution_count": 4,
   "id": "072f7c9d",
   "metadata": {},
   "outputs": [
    {
     "data": {
      "text/plain": [
       "['Понедельник',\n",
       " 'Физика (лекц.)',\n",
       " 'Физика (лаб.)',\n",
       " 'Алгебра (практ.)',\n",
       " 'Вторник',\n",
       " 'Геометрия (лекц.)',\n",
       " 'Физика (практ.)',\n",
       " 'Физика (лаба.)',\n",
       " 'Физкультура (практик.)',\n",
       " 'Среда',\n",
       " 'Физика (лекц.)',\n",
       " 'Физика (лаб.)',\n",
       " 'Алгебра (практ.)',\n",
       " 'Четверг',\n",
       " 'Геометрия (лекц.)',\n",
       " 'Физика (практ.)',\n",
       " 'Физика (лаба.)',\n",
       " 'Физкультура (практик.)',\n",
       " 'Пятница',\n",
       " 'Геометрия (лекц.)',\n",
       " 'Физика (практ.)',\n",
       " 'Физика (лаба.)',\n",
       " 'Физкультура (практик.)']"
      ]
     },
     "execution_count": 4,
     "metadata": {},
     "output_type": "execute_result"
    }
   ],
   "source": [
    "with open(\"Рассписание.txt\", \"r\", encoding = \"utf-8\") as file2:\n",
    "    liness = [\n",
    "        line.strip(\"\\n \\t\")\n",
    "        for line in file2.readlines()\n",
    "    ]\n",
    "liness = [\n",
    "    line \n",
    "    for line in liness \n",
    "        if line\n",
    "]\n",
    "liness"
   ]
  },
  {
   "cell_type": "code",
   "execution_count": 30,
   "id": "d1d315e0",
   "metadata": {},
   "outputs": [
    {
     "name": "stdout",
     "output_type": "stream",
     "text": [
      "Лекций: 5\n",
      "Практических: 8\n",
      "Лабораторных: 5\n"
     ]
    }
   ],
   "source": [
    "lec, lab, pract = 0, 0, 0\n",
    "for line in liness:\n",
    "    if line.count('лек') != 0:\n",
    "        lec += 1\n",
    "    elif line.count('лаб') != 0:\n",
    "        lab += 1\n",
    "    elif line.count('прак') != 0:\n",
    "        pract += 1 \n",
    "\n",
    "print('Лекций:', lec)\n",
    "print('Практических:', pract)\n",
    "print('Лабораторных:', lab)"
   ]
  },
  {
   "cell_type": "markdown",
   "id": "7591d635",
   "metadata": {},
   "source": [
    "### Задание 3"
   ]
  },
  {
   "cell_type": "markdown",
   "id": "f4a6dbb2",
   "metadata": {},
   "source": [
    "Откройте Telegram, найдите @BotFather и начните беседу. Отправьте команду /newbot и следуйте инструкциям.\n",
    "свой токен; адрес Telegram API (https://api.telegram.org/bot); ссылку на документацию. Обязательно сохраните токен, так как это ключ для взаимодействия с ботом.\n",
    "\n",
    "Хранение токена должно быть локальным: ни в коем случае не выгружайте его в общий доступ, например в GitHub-репозиторий."
   ]
  },
  {
   "cell_type": "code",
   "execution_count": null,
   "id": "6f707a74",
   "metadata": {},
   "outputs": [],
   "source": []
  },
  {
   "cell_type": "markdown",
   "id": "459b7a91",
   "metadata": {},
   "source": [
    "### Задание 4"
   ]
  },
  {
   "cell_type": "markdown",
   "id": "125a2f96",
   "metadata": {},
   "source": [
    "Выведите список файлов в указанной директории. например где у вас лежат ваши тетради"
   ]
  },
  {
   "cell_type": "code",
   "execution_count": 24,
   "id": "4375bad7",
   "metadata": {},
   "outputs": [
    {
     "name": "stdout",
     "output_type": "stream",
     "text": [
      "['.ipynb_checkpoints', 'DZ2L.ipynb', 'DZ3L.ipynb', 'DZ4L.ipynb', 'DZ5L.ipynb', 'Untitled.ipynb', 'Оценки учеников.txt', 'Рассписание.txt', 'Стихотворение.txt']\n"
     ]
    }
   ],
   "source": [
    "# !dir \n",
    "import os\n",
    "\n",
    "PATH = \".\"\n",
    "print(os.listdir(PATH))"
   ]
  },
  {
   "cell_type": "markdown",
   "id": "71eae733",
   "metadata": {},
   "source": [
    "### Задание 5"
   ]
  },
  {
   "cell_type": "markdown",
   "id": "6b354b4e",
   "metadata": {},
   "source": [
    "Напишите программу, которая принимает текст и выводит два слова: наиболее часто встречающееся и самое длинное.\n",
    "\n",
    "\n",
    "Варкалось. Хливкие шорьки Пырялись по наве, И хрюкотали зелюки, Как мюмзики в мове.\n",
    "\n",
    "О, бойся Бармаглота, сын! Он так свирлеп и дик! А в глу́ше ры́мит исполин — Злопастный Брандашмыг!\n",
    "\n",
    "Но взял он меч, и взял он щит, Высоких полон дум. В глущобу путь его лежит Под дерево Тумтум.\n",
    "\n",
    "Он стал под дерево и ждёт. И вдруг граахнул гром — Летит ужасный Бармаглот И пылкает огнём!\n",
    "\n",
    "Раз-два, раз-два! Горит трава, Взы-взы — стрижает меч, Ува! Ува! И голова Барабардает с плеч!\n",
    "\n",
    "О светозарный мальчик мой! Ты победил в бою! О храброславленный герой, Хвалу тебе пою!\n",
    "\n",
    "Варкалось. Хливкие шорьки Пырялись по наве. И хрюкотали зелюки, Как мюмзики в мове."
   ]
  },
  {
   "cell_type": "code",
   "execution_count": 61,
   "id": "1db4c30f",
   "metadata": {},
   "outputs": [],
   "source": [
    "with open(\"Стихотворение.txt\", \"r\", encoding = \"utf-8\") as file3:\n",
    "    text = file3.read()"
   ]
  },
  {
   "cell_type": "code",
   "execution_count": 63,
   "id": "2765f3b4",
   "metadata": {},
   "outputs": [
    {
     "data": {
      "text/plain": [
       "6"
      ]
     },
     "execution_count": 63,
     "metadata": {},
     "output_type": "execute_result"
    }
   ],
   "source": [
    "len('глу́ше')"
   ]
  },
  {
   "cell_type": "code",
   "execution_count": 62,
   "id": "baf96f90",
   "metadata": {},
   "outputs": [
    {
     "data": {
      "text/plain": [
       "'Варкалось  Хливкие шорьки Пырялись по наве  И хрюкотали зелюки  Как мюмзики в мове   О  бойся Бармаглота  сын  Он так свирлеп и дик  А в глуше рымит исполин   Злопастный Брандашмыг   Но взял он меч  и взял он щит  Высоких полон дум  В глущобу путь его лежит Под дерево Тумтум   Он стал под дерево и ждёт  И вдруг граахнул гром   Летит ужасный Бармаглот И пылкает огнём   Раз-два  раз-два  Горит трава  Взы-взы   стрижает меч  Ува  Ува  И голова Барабардает с плеч   О светозарный мальчик мой  Ты победил в бою  О храброславленный герой  Хвалу тебе пою   Варкалось  Хливкие шорьки Пырялись по наве  И хрюкотали зелюки  Как мюмзики в мове '"
      ]
     },
     "execution_count": 62,
     "metadata": {},
     "output_type": "execute_result"
    }
   ],
   "source": [
    "text = text.replace('\\n', ' ')\n",
    "text = text.replace('!', ' ')\n",
    "text = text.replace(',', ' ')\n",
    "text = text.replace('.', ' ')\n",
    "text = text.replace('—', ' ')\n",
    "text = text.replace('глу́ше'[3], '')\n",
    "\n",
    "text"
   ]
  },
  {
   "cell_type": "code",
   "execution_count": 64,
   "id": "1fc3d7b8",
   "metadata": {},
   "outputs": [],
   "source": [
    "words = [word \n",
    "         for word in text.lower().split()\n",
    "            if word\n",
    "]"
   ]
  },
  {
   "cell_type": "code",
   "execution_count": 53,
   "id": "77d98b8a",
   "metadata": {},
   "outputs": [
    {
     "data": {
      "text/plain": [
       "'храброславленный'"
      ]
     },
     "execution_count": 53,
     "metadata": {},
     "output_type": "execute_result"
    }
   ],
   "source": [
    "max_len = 0\n",
    "    \n",
    "for i in text.split(' '):\n",
    "    if len(i) > max_len:\n",
    "        max_len = len(i)\n",
    "        big_word = i\n",
    " \n",
    "big_word        "
   ]
  },
  {
   "cell_type": "code",
   "execution_count": 70,
   "id": "e8ace067",
   "metadata": {},
   "outputs": [],
   "source": [
    "from collections import Counter"
   ]
  },
  {
   "cell_type": "code",
   "execution_count": 81,
   "id": "907aeb29",
   "metadata": {},
   "outputs": [
    {
     "data": {
      "text/plain": [
       "'и'"
      ]
     },
     "execution_count": 81,
     "metadata": {},
     "output_type": "execute_result"
    }
   ],
   "source": [
    "Counter(words).most_common(1)[0][0]"
   ]
  }
 ],
 "metadata": {
  "kernelspec": {
   "display_name": "Python 3 (ipykernel)",
   "language": "python",
   "name": "python3"
  },
  "language_info": {
   "codemirror_mode": {
    "name": "ipython",
    "version": 3
   },
   "file_extension": ".py",
   "mimetype": "text/x-python",
   "name": "python",
   "nbconvert_exporter": "python",
   "pygments_lexer": "ipython3",
   "version": "3.11.5"
  }
 },
 "nbformat": 4,
 "nbformat_minor": 5
}
