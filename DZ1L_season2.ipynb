{
 "cells": [
  {
   "cell_type": "markdown",
   "id": "617c289d",
   "metadata": {},
   "source": [
    "# Задача 1 Связные списки"
   ]
  },
  {
   "cell_type": "markdown",
   "id": "86f1c014",
   "metadata": {},
   "source": [
    "Напишите функцию (пусть она будет называться reverse_linked_list), которая разворачивает связный список. На вход она принимает головную ноду, а на выход отдаёт хвостовую ноду исходного списка, но только теперь если попробовать пройтись по ней, она будет новой головной. С функцией из примера выше."
   ]
  },
  {
   "cell_type": "code",
   "execution_count": 64,
   "id": "4731507c",
   "metadata": {},
   "outputs": [],
   "source": [
    "class Node(object):\n",
    "    def __init__(self, value=None, next_node=None):\n",
    "        self.value = value\n",
    "        self.next = next_node\n",
    "\n",
    "    def __str__(self):\n",
    "        return f\"[Node with value {self.value}]\"\n",
    "\n",
    "\n",
    "def print_linked_list(head):\n",
    "    cur = head\n",
    "    while cur is not None:\n",
    "        print(cur)\n",
    "        cur = cur.next\n",
    "        \n",
    "\n",
    "def reverse_linked_list(head):\n",
    "    prev = None\n",
    "    current = head\n",
    "    while current is not None:\n",
    "        next_node = current.next\n",
    "        current.next = prev\n",
    "        prev = current\n",
    "        current = next_node\n",
    "    return prev"
   ]
  },
  {
   "cell_type": "code",
   "execution_count": 65,
   "id": "92d0a567",
   "metadata": {},
   "outputs": [
    {
     "name": "stdout",
     "output_type": "stream",
     "text": [
      "[Node with value 1]\n",
      "[Node with value 2]\n",
      "[Node with value 3]\n",
      "[Node with value Внезапно]\n",
      "[Node with value 5]\n"
     ]
    }
   ],
   "source": [
    "h, a, b, c, d = Node(1), Node(2), Node(3), Node(\"Внезапно\"), Node(5)\n",
    "\n",
    "h.next = a\n",
    "a.next = b\n",
    "b.next = c\n",
    "c.next = d\n",
    "\n",
    "print_linked_list(h)"
   ]
  },
  {
   "cell_type": "code",
   "execution_count": 66,
   "id": "01dca00a",
   "metadata": {},
   "outputs": [
    {
     "name": "stdout",
     "output_type": "stream",
     "text": [
      "[Node with value 1]\n",
      "[Node with value 2]\n",
      "[Node with value 3]\n",
      "[Node with value Внезапно]\n",
      "[Node with value 5]\n",
      "---\n",
      "[Node with value 5]\n",
      "[Node with value Внезапно]\n",
      "[Node with value 3]\n",
      "[Node with value 2]\n",
      "[Node with value 1]\n"
     ]
    }
   ],
   "source": [
    "print_linked_list(h)\n",
    "h = reverse_linked_list(h)\n",
    "print(\"---\")\n",
    "print_linked_list(h)"
   ]
  },
  {
   "cell_type": "markdown",
   "id": "4999b24c",
   "metadata": {},
   "source": [
    "# Задача 2 Пузырьки"
   ]
  },
  {
   "cell_type": "markdown",
   "id": "60d07d1a",
   "metadata": {},
   "source": [
    "Сортировкой пузырьком это один из самых простейших алгоритмов сортировки, который можно придумать. В базовом виде он подразумеват вложенный цикл и реализуется как-то так"
   ]
  },
  {
   "cell_type": "code",
   "execution_count": 67,
   "id": "9582403e",
   "metadata": {},
   "outputs": [
    {
     "name": "stdout",
     "output_type": "stream",
     "text": [
      "[0, 1, 1, 2, 2, 4]\n"
     ]
    }
   ],
   "source": [
    "l = [2, 4, 1, 1, 2, 0]\n",
    "\n",
    "for i in range(len(l)):\n",
    "    for j in range(i, len(l)):\n",
    "        if l[i] > l[j]:\n",
    "            l[i], l[j] = l[j], l[i]\n",
    "\n",
    "print(l)"
   ]
  },
  {
   "cell_type": "markdown",
   "id": "fdf0f4da",
   "metadata": {},
   "source": [
    "Вам предлагается написать функцию, которая будет на вход получать голову несортированного связного списка, а на выход возвращать голову отсортированного."
   ]
  },
  {
   "cell_type": "code",
   "execution_count": 99,
   "id": "db09f1a3",
   "metadata": {},
   "outputs": [],
   "source": [
    "class Node:\n",
    "    def __init__(self, data=None):\n",
    "        self.data = data\n",
    "        self.next = None\n",
    "\n",
    "def swap(node1, node2):\n",
    "    temp = node1.data\n",
    "    node1.data = node2.data\n",
    "    node2.data = temp\n",
    "\n",
    "def bubble_sort(head):\n",
    "    if head is None:\n",
    "        return None\n",
    "    \n",
    "    sorted = False\n",
    "    while not sorted:\n",
    "        sorted = True\n",
    "        current = head\n",
    "        while current.next is not None:\n",
    "            if current.data > current.next.data:\n",
    "                swap(current, current.next)\n",
    "                sorted = False\n",
    "            current = current.next\n",
    "    \n",
    "    return head"
   ]
  },
  {
   "cell_type": "code",
   "execution_count": 100,
   "id": "2752ca30",
   "metadata": {},
   "outputs": [],
   "source": [
    "L, a, b, c, d = Node(1), Node(22), Node(3), Node(12), Node(5)\n",
    "\n",
    "L.next = a\n",
    "a.next = b\n",
    "b.next = c\n",
    "c.next = d"
   ]
  },
  {
   "cell_type": "code",
   "execution_count": 108,
   "id": "f7bcef45",
   "metadata": {},
   "outputs": [
    {
     "data": {
      "text/plain": [
       "<__main__.Node at 0x2d234fcd030>"
      ]
     },
     "execution_count": 108,
     "metadata": {},
     "output_type": "execute_result"
    }
   ],
   "source": [
    "bubble_sort(L) # Не понимаю, почему такой рультат "
   ]
  },
  {
   "cell_type": "markdown",
   "id": "02909b80",
   "metadata": {},
   "source": [
    "# Задача 3 Pandas"
   ]
  },
  {
   "cell_type": "markdown",
   "id": "81c9f97b",
   "metadata": {},
   "source": [
    "## Задание 1"
   ]
  },
  {
   "cell_type": "markdown",
   "id": "63d4cb1e",
   "metadata": {},
   "source": [
    "Выясните, сколько в среднем выходит полный счёт по пятницам на ланч у курящих мужчин (датасет tips)"
   ]
  },
  {
   "cell_type": "code",
   "execution_count": 3,
   "id": "7f1b4d68",
   "metadata": {},
   "outputs": [],
   "source": [
    "import pandas as pd"
   ]
  },
  {
   "cell_type": "code",
   "execution_count": 8,
   "id": "4365c6f5",
   "metadata": {},
   "outputs": [],
   "source": [
    "df = pd.read_csv('Desktop/tips.csv')"
   ]
  },
  {
   "cell_type": "code",
   "execution_count": 9,
   "id": "6df4dca4",
   "metadata": {},
   "outputs": [
    {
     "data": {
      "text/html": [
       "<div>\n",
       "<style scoped>\n",
       "    .dataframe tbody tr th:only-of-type {\n",
       "        vertical-align: middle;\n",
       "    }\n",
       "\n",
       "    .dataframe tbody tr th {\n",
       "        vertical-align: top;\n",
       "    }\n",
       "\n",
       "    .dataframe thead th {\n",
       "        text-align: right;\n",
       "    }\n",
       "</style>\n",
       "<table border=\"1\" class=\"dataframe\">\n",
       "  <thead>\n",
       "    <tr style=\"text-align: right;\">\n",
       "      <th></th>\n",
       "      <th>total_bill</th>\n",
       "      <th>tip</th>\n",
       "      <th>sex</th>\n",
       "      <th>smoker</th>\n",
       "      <th>day</th>\n",
       "      <th>time</th>\n",
       "      <th>size</th>\n",
       "      <th>price_per_person</th>\n",
       "      <th>Payer Name</th>\n",
       "      <th>CC Number</th>\n",
       "      <th>Payment ID</th>\n",
       "    </tr>\n",
       "  </thead>\n",
       "  <tbody>\n",
       "    <tr>\n",
       "      <th>0</th>\n",
       "      <td>16.99</td>\n",
       "      <td>1.01</td>\n",
       "      <td>Female</td>\n",
       "      <td>No</td>\n",
       "      <td>Sun</td>\n",
       "      <td>Dinner</td>\n",
       "      <td>2</td>\n",
       "      <td>8.49</td>\n",
       "      <td>Christy Cunningham</td>\n",
       "      <td>3560325168603410</td>\n",
       "      <td>Sun2959</td>\n",
       "    </tr>\n",
       "    <tr>\n",
       "      <th>1</th>\n",
       "      <td>10.34</td>\n",
       "      <td>1.66</td>\n",
       "      <td>Male</td>\n",
       "      <td>No</td>\n",
       "      <td>Sun</td>\n",
       "      <td>Dinner</td>\n",
       "      <td>3</td>\n",
       "      <td>3.45</td>\n",
       "      <td>Douglas Tucker</td>\n",
       "      <td>4478071379779230</td>\n",
       "      <td>Sun4608</td>\n",
       "    </tr>\n",
       "    <tr>\n",
       "      <th>2</th>\n",
       "      <td>21.01</td>\n",
       "      <td>3.50</td>\n",
       "      <td>Male</td>\n",
       "      <td>No</td>\n",
       "      <td>Sun</td>\n",
       "      <td>Dinner</td>\n",
       "      <td>3</td>\n",
       "      <td>7.00</td>\n",
       "      <td>Travis Walters</td>\n",
       "      <td>6011812112971322</td>\n",
       "      <td>Sun4458</td>\n",
       "    </tr>\n",
       "    <tr>\n",
       "      <th>3</th>\n",
       "      <td>23.68</td>\n",
       "      <td>3.31</td>\n",
       "      <td>Male</td>\n",
       "      <td>No</td>\n",
       "      <td>Sun</td>\n",
       "      <td>Dinner</td>\n",
       "      <td>2</td>\n",
       "      <td>11.84</td>\n",
       "      <td>Nathaniel Harris</td>\n",
       "      <td>4676137647685994</td>\n",
       "      <td>Sun5260</td>\n",
       "    </tr>\n",
       "    <tr>\n",
       "      <th>4</th>\n",
       "      <td>24.59</td>\n",
       "      <td>3.61</td>\n",
       "      <td>Female</td>\n",
       "      <td>No</td>\n",
       "      <td>Sun</td>\n",
       "      <td>Dinner</td>\n",
       "      <td>4</td>\n",
       "      <td>6.15</td>\n",
       "      <td>Tonya Carter</td>\n",
       "      <td>4832732618637221</td>\n",
       "      <td>Sun2251</td>\n",
       "    </tr>\n",
       "    <tr>\n",
       "      <th>...</th>\n",
       "      <td>...</td>\n",
       "      <td>...</td>\n",
       "      <td>...</td>\n",
       "      <td>...</td>\n",
       "      <td>...</td>\n",
       "      <td>...</td>\n",
       "      <td>...</td>\n",
       "      <td>...</td>\n",
       "      <td>...</td>\n",
       "      <td>...</td>\n",
       "      <td>...</td>\n",
       "    </tr>\n",
       "    <tr>\n",
       "      <th>239</th>\n",
       "      <td>29.03</td>\n",
       "      <td>5.92</td>\n",
       "      <td>Male</td>\n",
       "      <td>No</td>\n",
       "      <td>Sat</td>\n",
       "      <td>Dinner</td>\n",
       "      <td>3</td>\n",
       "      <td>9.68</td>\n",
       "      <td>Michael Avila</td>\n",
       "      <td>5296068606052842</td>\n",
       "      <td>Sat2657</td>\n",
       "    </tr>\n",
       "    <tr>\n",
       "      <th>240</th>\n",
       "      <td>27.18</td>\n",
       "      <td>2.00</td>\n",
       "      <td>Female</td>\n",
       "      <td>Yes</td>\n",
       "      <td>Sat</td>\n",
       "      <td>Dinner</td>\n",
       "      <td>2</td>\n",
       "      <td>13.59</td>\n",
       "      <td>Monica Sanders</td>\n",
       "      <td>3506806155565404</td>\n",
       "      <td>Sat1766</td>\n",
       "    </tr>\n",
       "    <tr>\n",
       "      <th>241</th>\n",
       "      <td>22.67</td>\n",
       "      <td>2.00</td>\n",
       "      <td>Male</td>\n",
       "      <td>Yes</td>\n",
       "      <td>Sat</td>\n",
       "      <td>Dinner</td>\n",
       "      <td>2</td>\n",
       "      <td>11.34</td>\n",
       "      <td>Keith Wong</td>\n",
       "      <td>6011891618747196</td>\n",
       "      <td>Sat3880</td>\n",
       "    </tr>\n",
       "    <tr>\n",
       "      <th>242</th>\n",
       "      <td>17.82</td>\n",
       "      <td>1.75</td>\n",
       "      <td>Male</td>\n",
       "      <td>No</td>\n",
       "      <td>Sat</td>\n",
       "      <td>Dinner</td>\n",
       "      <td>2</td>\n",
       "      <td>8.91</td>\n",
       "      <td>Dennis Dixon</td>\n",
       "      <td>4375220550950</td>\n",
       "      <td>Sat17</td>\n",
       "    </tr>\n",
       "    <tr>\n",
       "      <th>243</th>\n",
       "      <td>18.78</td>\n",
       "      <td>3.00</td>\n",
       "      <td>Female</td>\n",
       "      <td>No</td>\n",
       "      <td>Thur</td>\n",
       "      <td>Dinner</td>\n",
       "      <td>2</td>\n",
       "      <td>9.39</td>\n",
       "      <td>Michelle Hardin</td>\n",
       "      <td>3511451626698139</td>\n",
       "      <td>Thur672</td>\n",
       "    </tr>\n",
       "  </tbody>\n",
       "</table>\n",
       "<p>244 rows × 11 columns</p>\n",
       "</div>"
      ],
      "text/plain": [
       "     total_bill   tip     sex smoker   day    time  size  price_per_person  \\\n",
       "0         16.99  1.01  Female     No   Sun  Dinner     2              8.49   \n",
       "1         10.34  1.66    Male     No   Sun  Dinner     3              3.45   \n",
       "2         21.01  3.50    Male     No   Sun  Dinner     3              7.00   \n",
       "3         23.68  3.31    Male     No   Sun  Dinner     2             11.84   \n",
       "4         24.59  3.61  Female     No   Sun  Dinner     4              6.15   \n",
       "..          ...   ...     ...    ...   ...     ...   ...               ...   \n",
       "239       29.03  5.92    Male     No   Sat  Dinner     3              9.68   \n",
       "240       27.18  2.00  Female    Yes   Sat  Dinner     2             13.59   \n",
       "241       22.67  2.00    Male    Yes   Sat  Dinner     2             11.34   \n",
       "242       17.82  1.75    Male     No   Sat  Dinner     2              8.91   \n",
       "243       18.78  3.00  Female     No  Thur  Dinner     2              9.39   \n",
       "\n",
       "             Payer Name         CC Number Payment ID  \n",
       "0    Christy Cunningham  3560325168603410    Sun2959  \n",
       "1        Douglas Tucker  4478071379779230    Sun4608  \n",
       "2        Travis Walters  6011812112971322    Sun4458  \n",
       "3      Nathaniel Harris  4676137647685994    Sun5260  \n",
       "4          Tonya Carter  4832732618637221    Sun2251  \n",
       "..                  ...               ...        ...  \n",
       "239       Michael Avila  5296068606052842    Sat2657  \n",
       "240      Monica Sanders  3506806155565404    Sat1766  \n",
       "241          Keith Wong  6011891618747196    Sat3880  \n",
       "242        Dennis Dixon     4375220550950      Sat17  \n",
       "243     Michelle Hardin  3511451626698139    Thur672  \n",
       "\n",
       "[244 rows x 11 columns]"
      ]
     },
     "execution_count": 9,
     "metadata": {},
     "output_type": "execute_result"
    }
   ],
   "source": [
    "df"
   ]
  },
  {
   "cell_type": "code",
   "execution_count": 18,
   "id": "d7a8a285",
   "metadata": {},
   "outputs": [
    {
     "data": {
      "text/plain": [
       "11.386666666666668"
      ]
     },
     "execution_count": 18,
     "metadata": {},
     "output_type": "execute_result"
    }
   ],
   "source": [
    "le_masque = df[\"sex\"] == \"Male\"\n",
    "le_masque = le_masque & (df[\"day\"] == \"Fri\")\n",
    "le_masque &= df[\"smoker\"] == \"Yes\"\n",
    "le_masque &= df['time'] == \"Lunch\"\n",
    "\n",
    "df[le_masque][\"total_bill\"].mean()"
   ]
  },
  {
   "cell_type": "markdown",
   "id": "0bb4bf66",
   "metadata": {},
   "source": [
    "## Задание 2"
   ]
  },
  {
   "cell_type": "markdown",
   "id": "0cf5f06e",
   "metadata": {},
   "source": [
    "Загрузите iris и посмотрите разбросы по всем числовым значениям для всех трёх классов цветов (датасет iris)"
   ]
  },
  {
   "cell_type": "code",
   "execution_count": 19,
   "id": "b52567b5",
   "metadata": {},
   "outputs": [],
   "source": [
    "import seaborn as sns"
   ]
  },
  {
   "cell_type": "code",
   "execution_count": 21,
   "id": "caccd9d6",
   "metadata": {},
   "outputs": [
    {
     "data": {
      "text/html": [
       "<div>\n",
       "<style scoped>\n",
       "    .dataframe tbody tr th:only-of-type {\n",
       "        vertical-align: middle;\n",
       "    }\n",
       "\n",
       "    .dataframe tbody tr th {\n",
       "        vertical-align: top;\n",
       "    }\n",
       "\n",
       "    .dataframe thead th {\n",
       "        text-align: right;\n",
       "    }\n",
       "</style>\n",
       "<table border=\"1\" class=\"dataframe\">\n",
       "  <thead>\n",
       "    <tr style=\"text-align: right;\">\n",
       "      <th></th>\n",
       "      <th>sepal_length</th>\n",
       "      <th>sepal_width</th>\n",
       "      <th>petal_length</th>\n",
       "      <th>petal_width</th>\n",
       "      <th>species</th>\n",
       "    </tr>\n",
       "  </thead>\n",
       "  <tbody>\n",
       "    <tr>\n",
       "      <th>0</th>\n",
       "      <td>5.1</td>\n",
       "      <td>3.5</td>\n",
       "      <td>1.4</td>\n",
       "      <td>0.2</td>\n",
       "      <td>setosa</td>\n",
       "    </tr>\n",
       "    <tr>\n",
       "      <th>1</th>\n",
       "      <td>4.9</td>\n",
       "      <td>3.0</td>\n",
       "      <td>1.4</td>\n",
       "      <td>0.2</td>\n",
       "      <td>setosa</td>\n",
       "    </tr>\n",
       "    <tr>\n",
       "      <th>2</th>\n",
       "      <td>4.7</td>\n",
       "      <td>3.2</td>\n",
       "      <td>1.3</td>\n",
       "      <td>0.2</td>\n",
       "      <td>setosa</td>\n",
       "    </tr>\n",
       "    <tr>\n",
       "      <th>3</th>\n",
       "      <td>4.6</td>\n",
       "      <td>3.1</td>\n",
       "      <td>1.5</td>\n",
       "      <td>0.2</td>\n",
       "      <td>setosa</td>\n",
       "    </tr>\n",
       "    <tr>\n",
       "      <th>4</th>\n",
       "      <td>5.0</td>\n",
       "      <td>3.6</td>\n",
       "      <td>1.4</td>\n",
       "      <td>0.2</td>\n",
       "      <td>setosa</td>\n",
       "    </tr>\n",
       "    <tr>\n",
       "      <th>...</th>\n",
       "      <td>...</td>\n",
       "      <td>...</td>\n",
       "      <td>...</td>\n",
       "      <td>...</td>\n",
       "      <td>...</td>\n",
       "    </tr>\n",
       "    <tr>\n",
       "      <th>145</th>\n",
       "      <td>6.7</td>\n",
       "      <td>3.0</td>\n",
       "      <td>5.2</td>\n",
       "      <td>2.3</td>\n",
       "      <td>virginica</td>\n",
       "    </tr>\n",
       "    <tr>\n",
       "      <th>146</th>\n",
       "      <td>6.3</td>\n",
       "      <td>2.5</td>\n",
       "      <td>5.0</td>\n",
       "      <td>1.9</td>\n",
       "      <td>virginica</td>\n",
       "    </tr>\n",
       "    <tr>\n",
       "      <th>147</th>\n",
       "      <td>6.5</td>\n",
       "      <td>3.0</td>\n",
       "      <td>5.2</td>\n",
       "      <td>2.0</td>\n",
       "      <td>virginica</td>\n",
       "    </tr>\n",
       "    <tr>\n",
       "      <th>148</th>\n",
       "      <td>6.2</td>\n",
       "      <td>3.4</td>\n",
       "      <td>5.4</td>\n",
       "      <td>2.3</td>\n",
       "      <td>virginica</td>\n",
       "    </tr>\n",
       "    <tr>\n",
       "      <th>149</th>\n",
       "      <td>5.9</td>\n",
       "      <td>3.0</td>\n",
       "      <td>5.1</td>\n",
       "      <td>1.8</td>\n",
       "      <td>virginica</td>\n",
       "    </tr>\n",
       "  </tbody>\n",
       "</table>\n",
       "<p>150 rows × 5 columns</p>\n",
       "</div>"
      ],
      "text/plain": [
       "     sepal_length  sepal_width  petal_length  petal_width    species\n",
       "0             5.1          3.5           1.4          0.2     setosa\n",
       "1             4.9          3.0           1.4          0.2     setosa\n",
       "2             4.7          3.2           1.3          0.2     setosa\n",
       "3             4.6          3.1           1.5          0.2     setosa\n",
       "4             5.0          3.6           1.4          0.2     setosa\n",
       "..            ...          ...           ...          ...        ...\n",
       "145           6.7          3.0           5.2          2.3  virginica\n",
       "146           6.3          2.5           5.0          1.9  virginica\n",
       "147           6.5          3.0           5.2          2.0  virginica\n",
       "148           6.2          3.4           5.4          2.3  virginica\n",
       "149           5.9          3.0           5.1          1.8  virginica\n",
       "\n",
       "[150 rows x 5 columns]"
      ]
     },
     "execution_count": 21,
     "metadata": {},
     "output_type": "execute_result"
    }
   ],
   "source": [
    "iris = sns.load_dataset('iris')\n",
    "iris"
   ]
  },
  {
   "cell_type": "code",
   "execution_count": 22,
   "id": "3a354c09",
   "metadata": {},
   "outputs": [
    {
     "data": {
      "text/plain": [
       "array(['setosa', 'versicolor', 'virginica'], dtype=object)"
      ]
     },
     "execution_count": 22,
     "metadata": {},
     "output_type": "execute_result"
    }
   ],
   "source": [
    "iris[\"species\"].unique()"
   ]
  },
  {
   "cell_type": "code",
   "execution_count": 34,
   "id": "8ba7657c",
   "metadata": {},
   "outputs": [
    {
     "data": {
      "image/png": "[encoded data removed]",
      "text/plain": [
       "<Figure size 700x700 with 3 Axes>"
      ]
     },
     "metadata": {},
     "output_type": "display_data"
    }
   ],
   "source": [
    "g = sns.jointplot(data=iris,\n",
    "                  x=\"sepal_length\",\n",
    "                  y=\"sepal_width\",\n",
    "                  height=7,\n",
    "                  color=\"r\", \n",
    "                  hue=\"species\")"
   ]
  },
  {
   "cell_type": "code",
   "execution_count": 35,
   "id": "d9ae8367",
   "metadata": {},
   "outputs": [
    {
     "data": {
      "image/png": "[encoded data removed]",
      "text/plain": [
       "<Figure size 700x700 with 3 Axes>"
      ]
     },
     "metadata": {},
     "output_type": "display_data"
    }
   ],
   "source": [
    "g = sns.jointplot(data=iris,\n",
    "                  x=\"petal_length\",\n",
    "                  y=\"petal_width\",\n",
    "                  height=7,\n",
    "                  color=\"r\", \n",
    "                  hue=\"species\")"
   ]
  },
  {
   "cell_type": "markdown",
   "id": "35ec5336",
   "metadata": {},
   "source": [
    "## Задание 3"
   ]
  },
  {
   "cell_type": "markdown",
   "id": "fb8cfe2b",
   "metadata": {},
   "source": [
    "Создайте новый столбец с плотностью населения. Переименуйте названия первого и третьего столбца на русский язык"
   ]
  },
  {
   "cell_type": "code",
   "execution_count": 36,
   "id": "5e491e91",
   "metadata": {},
   "outputs": [],
   "source": [
    "df = pd.DataFrame({\n",
    "     'country': ['Kazakhstan', 'Russia', 'Belarus', 'Ukraine'],\n",
    "     'population': [17.04, 143.5, 9.5, 45.5],\n",
    "     'square': [2724902, 17125191, 207600, 603628]\n",
    " })"
   ]
  },
  {
   "cell_type": "code",
   "execution_count": 38,
   "id": "ef39d7af",
   "metadata": {},
   "outputs": [
    {
     "data": {
      "text/html": [
       "<div>\n",
       "<style scoped>\n",
       "    .dataframe tbody tr th:only-of-type {\n",
       "        vertical-align: middle;\n",
       "    }\n",
       "\n",
       "    .dataframe tbody tr th {\n",
       "        vertical-align: top;\n",
       "    }\n",
       "\n",
       "    .dataframe thead th {\n",
       "        text-align: right;\n",
       "    }\n",
       "</style>\n",
       "<table border=\"1\" class=\"dataframe\">\n",
       "  <thead>\n",
       "    <tr style=\"text-align: right;\">\n",
       "      <th></th>\n",
       "      <th>country</th>\n",
       "      <th>population</th>\n",
       "      <th>square</th>\n",
       "      <th>density</th>\n",
       "    </tr>\n",
       "  </thead>\n",
       "  <tbody>\n",
       "    <tr>\n",
       "      <th>0</th>\n",
       "      <td>Kazakhstan</td>\n",
       "      <td>17.04</td>\n",
       "      <td>2724902</td>\n",
       "      <td>0.000006</td>\n",
       "    </tr>\n",
       "    <tr>\n",
       "      <th>1</th>\n",
       "      <td>Russia</td>\n",
       "      <td>143.50</td>\n",
       "      <td>17125191</td>\n",
       "      <td>0.000008</td>\n",
       "    </tr>\n",
       "    <tr>\n",
       "      <th>2</th>\n",
       "      <td>Belarus</td>\n",
       "      <td>9.50</td>\n",
       "      <td>207600</td>\n",
       "      <td>0.000046</td>\n",
       "    </tr>\n",
       "    <tr>\n",
       "      <th>3</th>\n",
       "      <td>Ukraine</td>\n",
       "      <td>45.50</td>\n",
       "      <td>603628</td>\n",
       "      <td>0.000075</td>\n",
       "    </tr>\n",
       "  </tbody>\n",
       "</table>\n",
       "</div>"
      ],
      "text/plain": [
       "      country  population    square   density\n",
       "0  Kazakhstan       17.04   2724902  0.000006\n",
       "1      Russia      143.50  17125191  0.000008\n",
       "2     Belarus        9.50    207600  0.000046\n",
       "3     Ukraine       45.50    603628  0.000075"
      ]
     },
     "execution_count": 38,
     "metadata": {},
     "output_type": "execute_result"
    }
   ],
   "source": [
    "df['density'] = df['population']/df['square']\n",
    "\n",
    "df"
   ]
  },
  {
   "cell_type": "code",
   "execution_count": 44,
   "id": "0e3bde03",
   "metadata": {},
   "outputs": [
    {
     "data": {
      "text/html": [
       "<div>\n",
       "<style scoped>\n",
       "    .dataframe tbody tr th:only-of-type {\n",
       "        vertical-align: middle;\n",
       "    }\n",
       "\n",
       "    .dataframe tbody tr th {\n",
       "        vertical-align: top;\n",
       "    }\n",
       "\n",
       "    .dataframe thead th {\n",
       "        text-align: right;\n",
       "    }\n",
       "</style>\n",
       "<table border=\"1\" class=\"dataframe\">\n",
       "  <thead>\n",
       "    <tr style=\"text-align: right;\">\n",
       "      <th></th>\n",
       "      <th>Страна</th>\n",
       "      <th>population</th>\n",
       "      <th>Площадь</th>\n",
       "      <th>density</th>\n",
       "    </tr>\n",
       "  </thead>\n",
       "  <tbody>\n",
       "    <tr>\n",
       "      <th>0</th>\n",
       "      <td>Kazakhstan</td>\n",
       "      <td>17.04</td>\n",
       "      <td>2724902</td>\n",
       "      <td>0.000006</td>\n",
       "    </tr>\n",
       "    <tr>\n",
       "      <th>1</th>\n",
       "      <td>Russia</td>\n",
       "      <td>143.50</td>\n",
       "      <td>17125191</td>\n",
       "      <td>0.000008</td>\n",
       "    </tr>\n",
       "    <tr>\n",
       "      <th>2</th>\n",
       "      <td>Belarus</td>\n",
       "      <td>9.50</td>\n",
       "      <td>207600</td>\n",
       "      <td>0.000046</td>\n",
       "    </tr>\n",
       "    <tr>\n",
       "      <th>3</th>\n",
       "      <td>Ukraine</td>\n",
       "      <td>45.50</td>\n",
       "      <td>603628</td>\n",
       "      <td>0.000075</td>\n",
       "    </tr>\n",
       "  </tbody>\n",
       "</table>\n",
       "</div>"
      ],
      "text/plain": [
       "       Страна  population   Площадь   density\n",
       "0  Kazakhstan       17.04   2724902  0.000006\n",
       "1      Russia      143.50  17125191  0.000008\n",
       "2     Belarus        9.50    207600  0.000046\n",
       "3     Ukraine       45.50    603628  0.000075"
      ]
     },
     "execution_count": 44,
     "metadata": {},
     "output_type": "execute_result"
    }
   ],
   "source": [
    "df.rename(columns={'col1':'Страна', 'col3':'Площадь'})\n",
    "\n",
    "df"
   ]
  }
 ],
 "metadata": {
  "kernelspec": {
   "display_name": "Python 3 (ipykernel)",
   "language": "python",
   "name": "python3"
  },
  "language_info": {
   "codemirror_mode": {
    "name": "ipython",
    "version": 3
   },
   "file_extension": ".py",
   "mimetype": "text/x-python",
   "name": "python",
   "nbconvert_exporter": "python",
   "pygments_lexer": "ipython3",
   "version": "3.10.9"
  }
 },
 "nbformat": 4,
 "nbformat_minor": 5
}
